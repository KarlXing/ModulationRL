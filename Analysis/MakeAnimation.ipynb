{
 "cells": [
  {
   "cell_type": "code",
   "execution_count": 182,
   "metadata": {},
   "outputs": [],
   "source": [
    "# import modules\n",
    "# add path\n",
    "import sys, os\n",
    "sys.path.append(os.path.abspath(\"/Users/karl/Documents/Git/A2C_test\"))\n",
    "# modules used in training\n",
    "import copy\n",
    "import glob\n",
    "import os\n",
    "import time\n",
    "from collections import deque\n",
    "import gym\n",
    "import numpy as np\n",
    "import torch\n",
    "import torch.nn as nn\n",
    "import torch.nn.functional as F\n",
    "import torch.optim as optim\n",
    "import algo\n",
    "from arguments import get_args\n",
    "from envs import make_vec_envs\n",
    "from model import Policy\n",
    "from storage import RolloutStorage\n",
    "from utils import get_vec_normalize, update_mode, neuro_activity, obs_representation\n",
    "from tensorboardX import SummaryWriter\n",
    "from distributions import Categorical, DiagGaussian\n",
    "from utils import init, init_normc_, tanh_g\n",
    "FixedCategorical = torch.distributions.Categorical\n",
    "from matplotlib_venn import venn3\n",
    "import matplotlib.pyplot as plt\n",
    "import cv2\n",
    "cv2.ocl.setUseOpenCL(False)\n",
    "from PIL import Image"
   ]
  },
  {
   "cell_type": "code",
   "execution_count": 184,
   "metadata": {},
   "outputs": [
    {
     "name": "stderr",
     "output_type": "stream",
     "text": [
      "/anaconda3/lib/python3.6/site-packages/torch/serialization.py:425: SourceChangeWarning: source code of class 'model.Policy' has changed. you can retrieve the original source code by accessing the object's source attribute or set `torch.nn.Module.dump_patches = True` and use the patch tool to revert the changes.\n",
      "  warnings.warn(msg, SourceChangeWarning)\n"
     ]
    }
   ],
   "source": [
    "model_path = \"/Users/karl/Documents/Git/A2C_test/Result1.0/Nomodulation/tanh_nomodulation_norm/Jan11_19-46-44_jinwei-a2c-10/MsPacmanNoFrameskip-v0.pt\"\n",
    "actor_critic = torch.load(model_path)"
   ]
  },
  {
   "cell_type": "code",
   "execution_count": 185,
   "metadata": {},
   "outputs": [],
   "source": [
    "dist = actor_critic.dist"
   ]
  },
  {
   "cell_type": "code",
   "execution_count": 186,
   "metadata": {},
   "outputs": [],
   "source": [
    "features = torch.rand(32,512)"
   ]
  },
  {
   "cell_type": "code",
   "execution_count": 187,
   "metadata": {},
   "outputs": [],
   "source": [
    "dist = actor_critic.dist(features)"
   ]
  },
  {
   "cell_type": "code",
   "execution_count": 189,
   "metadata": {},
   "outputs": [
    {
     "data": {
      "text/plain": [
       "tensor(0.3036, grad_fn=<MeanBackward1>)"
      ]
     },
     "execution_count": 189,
     "metadata": {},
     "output_type": "execute_result"
    }
   ],
   "source": [
    "dist.entropy().mean()"
   ]
  },
  {
   "cell_type": "code",
   "execution_count": 75,
   "metadata": {},
   "outputs": [
    {
     "data": {
      "text/plain": [
       "dtype('float32')"
      ]
     },
     "execution_count": 75,
     "metadata": {},
     "output_type": "execute_result"
    }
   ],
   "source": [
    "np.float32(obs).dtype"
   ]
  },
  {
   "cell_type": "code",
   "execution_count": 158,
   "metadata": {},
   "outputs": [],
   "source": [
    "def reform(obs):\n",
    "    frame = cv2.cvtColor(obs, cv2.COLOR_RGB2GRAY)\n",
    "    frame = frame[:172,:]\n",
    "    return frame\n",
    "\n",
    "def make_input(last_frames, obs):\n",
    "    all_frames = []\n",
    "    for frame in last_frames:\n",
    "        all_frames.append(frame)\n",
    "    all_frames.append(obs)\n",
    "    all_frames = np.stack(all_frames, axis=0)\n",
    "    all_frames = np.float32(np.expand_dims(all_frames, axis=0))\n",
    "    return torch.from_numpy(all_frames)\n",
    "\n",
    "def smooth(scalars, weight):  # Weight between 0 and 1\n",
    "    last = scalars[0]  # First value in the plot (first timestep)\n",
    "    smoothed = list()\n",
    "    for point in scalars:\n",
    "        smoothed_val = last * weight + (1 - weight) * point  # Calculate smoothed value\n",
    "        smoothed.append(smoothed_val)                        # Save it\n",
    "        last = smoothed_val                                  # Anchor the last smoothed value\n",
    "\n",
    "    return smoothed"
   ]
  },
  {
   "cell_type": "code",
   "execution_count": 80,
   "metadata": {},
   "outputs": [],
   "source": [
    "#init\n",
    "env = gym.make(\"MsPacmanNoFrameskip-v0\")\n",
    "obs = env.reset()\n",
    "obs = reform(obs)/255\n",
    "last_frames = deque(maxlen=3)\n",
    "for i in range(3):\n",
    "    last_frames.append(obs)"
   ]
  },
  {
   "cell_type": "code",
   "execution_count": 87,
   "metadata": {},
   "outputs": [
    {
     "name": "stdout",
     "output_type": "stream",
     "text": [
      "steps: 100\n",
      "steps: 200\n",
      "steps: 300\n",
      "steps: 400\n",
      "steps: 500\n",
      "steps: 600\n",
      "steps: 700\n",
      "steps: 800\n",
      "steps: 900\n",
      "steps: 1000\n",
      "steps: 1100\n",
      "steps: 1200\n",
      "steps: 1300\n",
      "steps: 1400\n",
      "steps: 1500\n",
      "steps: 1600\n",
      "steps: 1700\n",
      "steps: 1800\n",
      "steps: 1900\n",
      "steps: 2000\n",
      "steps: 2100\n",
      "steps: 2200\n",
      "steps: 2300\n",
      "steps: 2400\n",
      "steps: 2500\n",
      "steps: 2600\n",
      "steps: 2700\n",
      "steps: 2800\n",
      "steps: 2900\n",
      "steps: 3000\n",
      "steps: 3100\n",
      "steps: 3200\n",
      "steps: 3300\n",
      "steps: 3400\n",
      "steps: 3500\n",
      "steps: 3600\n",
      "steps: 3700\n",
      "steps: 3800\n",
      "steps: 3900\n",
      "steps: 4000\n",
      "steps: 4100\n",
      "steps: 4200\n",
      "steps: 4300\n",
      "rewards: 3190.0\n"
     ]
    }
   ],
   "source": [
    "#run\n",
    "obs_hist = []\n",
    "g = torch.ones(1,1)\n",
    "rnn_hxs = torch.zeros(1,1)\n",
    "masks = torch.zeros(1,1)\n",
    "step = 0\n",
    "obs = env.reset()\n",
    "obs_hist.append(obs)\n",
    "obs = reform(obs)/255\n",
    "values = []\n",
    "rewards = []\n",
    "while(True):\n",
    "    step += 1\n",
    "    if step%100 == 0:\n",
    "        print(\"steps:\", step)\n",
    "    inputs = make_input(last_frames, obs)\n",
    "    last_frames.append(obs)\n",
    "\n",
    "    value, actor_features, rnn_hxs, x = actor_critic.base(inputs, g, rnn_hxs, masks)\n",
    "    values.append(value.item())\n",
    "    dist = actor_critic.dist(actor_features)\n",
    "    action = dist.mode().item()\n",
    "    obs, reward, done, infos = env.step(action)\n",
    "    rewards.append(reward)\n",
    "    if done:\n",
    "        print(\"rewards:\", sum(rewards))\n",
    "        break\n",
    "    obs_hist.append(obs)\n",
    "    obs = reform(obs)/255\n",
    "    "
   ]
  },
  {
   "cell_type": "code",
   "execution_count": 89,
   "metadata": {},
   "outputs": [
    {
     "data": {
      "text/plain": [
       "4377"
      ]
     },
     "execution_count": 89,
     "metadata": {},
     "output_type": "execute_result"
    }
   ],
   "source": [
    "len(obs_hist)"
   ]
  },
  {
   "cell_type": "code",
   "execution_count": 92,
   "metadata": {},
   "outputs": [],
   "source": [
    "pderrors = []\n",
    "for i in range(len(obs_hist)-1):\n",
    "    pderrors.append(rewards[i]+values[i+1]-values[i])"
   ]
  },
  {
   "cell_type": "code",
   "execution_count": 160,
   "metadata": {},
   "outputs": [],
   "source": [
    "smooth_errors = smooth(pderrors, 0.75)"
   ]
  },
  {
   "cell_type": "code",
   "execution_count": 95,
   "metadata": {},
   "outputs": [],
   "source": [
    "pderrors = [0] + pderrors"
   ]
  },
  {
   "cell_type": "code",
   "execution_count": 162,
   "metadata": {},
   "outputs": [],
   "source": [
    "error_dic = {}\n",
    "for i in range(len(smooth_errors)):\n",
    "    error_dic[i] = smooth_errors[i]"
   ]
  },
  {
   "cell_type": "code",
   "execution_count": 163,
   "metadata": {},
   "outputs": [],
   "source": [
    "d = sorted(error_dic, key=error_dic.__getitem__)"
   ]
  },
  {
   "cell_type": "code",
   "execution_count": 117,
   "metadata": {},
   "outputs": [],
   "source": [
    "def show_fig(k, error_dic, obs_hist):\n",
    "    print(\"prediction error: \", error_dic[k])\n",
    "    Image.fromarray(obs_hist[k], 'RGB').show()"
   ]
  },
  {
   "cell_type": "code",
   "execution_count": 181,
   "metadata": {},
   "outputs": [
    {
     "name": "stdout",
     "output_type": "stream",
     "text": [
      "prediction error:  -5.987697421508977\n"
     ]
    }
   ],
   "source": [
    "show_fig(1092, error_dic, obs_hist)"
   ]
  },
  {
   "cell_type": "code",
   "execution_count": 164,
   "metadata": {},
   "outputs": [
    {
     "data": {
      "text/plain": [
       "[722, 957, 585, 724, 718, 1080, 1094, 716, 437, 477, 706, 462, 1092, 1099, 720]"
      ]
     },
     "execution_count": 164,
     "metadata": {},
     "output_type": "execute_result"
    }
   ],
   "source": [
    "d[:15]"
   ]
  },
  {
   "cell_type": "code",
   "execution_count": 174,
   "metadata": {},
   "outputs": [
    {
     "data": {
      "text/plain": [
       "[1541,\n",
       " 541,\n",
       " 540,\n",
       " 649,\n",
       " 2308,\n",
       " 1914,\n",
       " 735,\n",
       " 1913,\n",
       " 1936,\n",
       " 1308,\n",
       " 608,\n",
       " 1307,\n",
       " 2115,\n",
       " 1540,\n",
       " 2307,\n",
       " 648,\n",
       " 607,\n",
       " 734,\n",
       " 1935,\n",
       " 647,\n",
       " 1539,\n",
       " 733,\n",
       " 2306,\n",
       " 1934,\n",
       " 606,\n",
       " 646,\n",
       " 1538,\n",
       " 2305,\n",
       " 732,\n",
       " 1933]"
      ]
     },
     "execution_count": 174,
     "metadata": {},
     "output_type": "execute_result"
    }
   ],
   "source": [
    "d[-50:-20]"
   ]
  },
  {
   "cell_type": "code",
   "execution_count": 153,
   "metadata": {},
   "outputs": [
    {
     "data": {
      "text/plain": [
       "110.0562515258789"
      ]
     },
     "execution_count": 153,
     "metadata": {},
     "output_type": "execute_result"
    }
   ],
   "source": [
    "values[438]"
   ]
  },
  {
   "cell_type": "code",
   "execution_count": 154,
   "metadata": {},
   "outputs": [
    {
     "data": {
      "text/plain": [
       "62.513336181640625"
      ]
     },
     "execution_count": 154,
     "metadata": {},
     "output_type": "execute_result"
    }
   ],
   "source": [
    "values[437]"
   ]
  },
  {
   "cell_type": "code",
   "execution_count": null,
   "metadata": {},
   "outputs": [],
   "source": []
  }
 ],
 "metadata": {
  "kernelspec": {
   "display_name": "Python 3",
   "language": "python",
   "name": "python3"
  },
  "language_info": {
   "codemirror_mode": {
    "name": "ipython",
    "version": 3
   },
   "file_extension": ".py",
   "mimetype": "text/x-python",
   "name": "python",
   "nbconvert_exporter": "python",
   "pygments_lexer": "ipython3",
   "version": "3.6.4"
  }
 },
 "nbformat": 4,
 "nbformat_minor": 2
}
