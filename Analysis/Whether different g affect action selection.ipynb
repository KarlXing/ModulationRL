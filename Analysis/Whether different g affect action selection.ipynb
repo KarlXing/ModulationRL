{
 "cells": [
  {
   "cell_type": "code",
   "execution_count": 94,
   "metadata": {},
   "outputs": [],
   "source": [
    "# import modules\n",
    "# add path\n",
    "import sys, os\n",
    "sys.path.append(os.path.abspath(\"/Users/karl/Documents/Git/A2C_test\"))\n",
    "# modules used in training\n",
    "import copy\n",
    "import glob\n",
    "import os\n",
    "import time\n",
    "from collections import deque\n",
    "import gym\n",
    "import numpy as np\n",
    "import torch\n",
    "import torch.nn as nn\n",
    "import torch.nn.functional as F\n",
    "import torch.optim as optim\n",
    "import algo\n",
    "from arguments import get_args\n",
    "from envs import make_vec_envs\n",
    "from model import Policy\n",
    "from storage import RolloutStorage\n",
    "from utils import get_vec_normalize, update_mode, neuro_activity, obs_representation\n",
    "from tensorboardX import SummaryWriter\n",
    "from distributions import Categorical, DiagGaussian\n",
    "from utils import init, init_normc_, tanh_g\n",
    "FixedCategorical = torch.distributions.Categorical\n",
    "from matplotlib_venn import venn3\n",
    "import matplotlib.pyplot as plt"
   ]
  },
  {
   "cell_type": "code",
   "execution_count": 115,
   "metadata": {},
   "outputs": [],
   "source": [
    "# args\n",
    "class Args:\n",
    "    def __init__(self):\n",
    "        self.env_name = \"MsPacmanNoFrameskip-v0\"\n",
    "        self.seed = 1\n",
    "        self.num_processes = 1\n",
    "        self.gamma = 0.99\n",
    "        self.log_dir = '.'\n",
    "        self.add_timestep = False\n",
    "        self.carl_wrapper = True\n",
    "        self.activation = 1\n",
    "        self.modulation = 0\n",
    "        self.sync = False\n",
    "        self.recurrent_policy = False\n",
    "        #self.saved_model = \"/Users/karl/Documents/Git/A2C_test/NewResult/f1_modulation/tanh_f1modulation_fixed0.1_1.0/Jan12_07-47-05_jinwei-a2c-10/MsPacmanNoFrameskip-v0.pt\"\n",
    "        self.saved_model = \"/Users/karl/Documents/Git/A2C_test/NewResult/no_modulation/tanh_nomodulation_norm_1.1/Jan11_19-56-27_jinwei-a2c-1/MsPacmanNoFrameskip-v0.pt\""
   ]
  },
  {
   "cell_type": "code",
   "execution_count": 116,
   "metadata": {},
   "outputs": [],
   "source": [
    "# initialize\n",
    "# load model and prepare environment\n",
    "args = Args()\n",
    "device = 'cpu'\n",
    "envs = make_vec_envs(args.env_name, args.seed, args.num_processes,\n",
    "                        args.gamma, args.log_dir, args.add_timestep, device, True, 4, args.carl_wrapper)\n",
    "actor_critic = torch.load(args.saved_model)"
   ]
  },
  {
   "cell_type": "code",
   "execution_count": 180,
   "metadata": {},
   "outputs": [],
   "source": [
    "# simulation function\n",
    "def simulate(envs, ac, gs, mute=False, action_g=1.0):\n",
    "    # store result\n",
    "    entropies = {}\n",
    "    actions = {}\n",
    "    features = {}\n",
    "    rewards = []\n",
    "    images = []\n",
    "    steps = []\n",
    "    for i in range(len(gs)):\n",
    "        actions[i] = []\n",
    "        entropies[i] = []\n",
    "    diff_obs = [] # obs when actions are different\n",
    "    diff_steps = [] # timestep when actions are different\n",
    "    done_steps = []  # timestep when it's done (3 lives)\n",
    "    pd_errors = []\n",
    "    evaluations = [] \n",
    "    observations = []\n",
    "        \n",
    "    # prepare environment\n",
    "    obs = envs.reset()/255\n",
    "    g = torch.ones(1,1)\n",
    "    rnn_hxs = torch.zeros(1,1)\n",
    "    masks = torch.zeros(1,1)\n",
    "    step = 0\n",
    "    done = [0]\n",
    "    # play the game\n",
    "    while(True):\n",
    "        step += 1\n",
    "        if not mute:\n",
    "            if step % 100 == 0:\n",
    "                print(\"has run \", step, \" steps\")\n",
    "        actual_action = None\n",
    "        observations.append(obs*255)\n",
    "        for i in range(len(gs)):\n",
    "            value, actor_features, rnn_hxs, x = ac.base(obs, g*gs[i], rnn_hxs, masks)\n",
    "            dist = ac.dist(actor_features)\n",
    "            action = dist.mode()\n",
    "            entropy = dist.entropy().item()\n",
    "            actions[i].append(action.item())\n",
    "            entropies[i].append(entropy)\n",
    "            # there must be a g of 1 in gs\n",
    "            if gs[i] == action_g:\n",
    "                actual_action = action\n",
    "                pre_value = value\n",
    "        if not (actions[0][-1] == actions[1][-1] and actions[0][-1] == actions[2][-1]):\n",
    "            diff_obs.append(obs)\n",
    "            diff_steps.append(step-1) # step start from 1\n",
    "        obs, reward, done, infos = envs.step(actual_action)\n",
    "        obs = obs/255\n",
    "        if done[0]:\n",
    "            done_steps.append(step-1)\n",
    "        next_value, _, _, _ = ac.base(obs, g, rnn_hxs, masks)\n",
    "        pd_errors.append(next_value.item() + reward.item() - pre_value.item())\n",
    "        rewards.append(reward)\n",
    "        if 'episode' in infos[0].keys():\n",
    "            print(\"Score: \", infos[0]['episode'])\n",
    "            break\n",
    "    return actions, entropies, rewards, diff_obs, diff_steps, done_steps, pd_errors, observations\n",
    "        \n",
    "# Average entropies for multiple times\n",
    "def get_entropy(envs, ac, gs, t):\n",
    "    avg_entropies = []\n",
    "    for i in range(len(gs)):\n",
    "        avg_entropies.append(list())\n",
    "    for i in range(t):\n",
    "        print(i)\n",
    "        _,entropies, _,_,_,_ = simulate(envs, ac, gs, mute=True)\n",
    "        for j in range(len(gs)):\n",
    "            avg_entropies[j].append(sum(entropies[j])/len(entropies[j]))\n",
    "    return avg_entropies\n",
    "\n",
    "\n",
    "# Test whether actor features change\n",
    "def check_features(envs, ac):\n",
    "\n",
    "    # prepare environment\n",
    "    obs = envs.reset()/255\n",
    "    g = torch.ones(1,1)\n",
    "    rnn_hxs = torch.zeros(1,1)\n",
    "    masks = torch.zeros(1,1)\n",
    "    step = 0\n",
    "    done = [0]\n",
    "    \n",
    "    # play the game\n",
    "    while(True):\n",
    "        step += 1\n",
    "        if step % 100 == 0:\n",
    "            print(\"has run \", step, \" steps\")\n",
    "        _, actor_features1, _, _ = ac.base(obs, g*1, rnn_hxs, masks)\n",
    "        _, actor_features2, _, _ = ac.base(obs, g*0.5, rnn_hxs, masks)\n",
    "        _, actor_features3, _, _ = ac.base(obs, g*2, rnn_hxs, masks)\n",
    "        same_count = torch.sum(torch.eq(actor_features1,actor_features2) + torch.eq(actor_features2,actor_features3)).item()\n",
    "        if same_count != 1024:\n",
    "            print('Different!')\n",
    "        dist = ac.dist(actor_features1)\n",
    "        action = dist.sample()\n",
    "        obs, reward, done, infos = envs.step(action)\n",
    "        if 'episode' in infos[0].keys():\n",
    "            print(\"Score: \", infos[0]['episode'])\n",
    "            break\n",
    "        obs = obs/255\n",
    "    return \n",
    "        \n"
   ]
  },
  {
   "cell_type": "code",
   "execution_count": 182,
   "metadata": {},
   "outputs": [
    {
     "name": "stdout",
     "output_type": "stream",
     "text": [
      "has run  100  steps\n",
      "has run  200  steps\n",
      "has run  300  steps\n",
      "has run  400  steps\n",
      "has run  500  steps\n",
      "has run  600  steps\n",
      "has run  700  steps\n",
      "has run  800  steps\n",
      "has run  900  steps\n",
      "has run  1000  steps\n",
      "Score:  {'r': 4620.0, 'l': 1058, 't': 117163.867608}\n"
     ]
    }
   ],
   "source": [
    "gs = [1.0, 0.5, 2.0]\n",
    "actions, entropies, rewards, diff_obs, diff_steps, done_steps, pd_errors, observations = simulate(envs, actor_critic, gs)"
   ]
  },
  {
   "cell_type": "code",
   "execution_count": 184,
   "metadata": {},
   "outputs": [
    {
     "data": {
      "text/plain": [
       "1056"
      ]
     },
     "execution_count": 184,
     "metadata": {},
     "output_type": "execute_result"
    }
   ],
   "source": [
    "len(pd_errors)"
   ]
  },
  {
   "cell_type": "code",
   "execution_count": 131,
   "metadata": {},
   "outputs": [],
   "source": [
    "def smooth(scalars, weight):  # Weight between 0 and 1\n",
    "    last = scalars[0]  # First value in the plot (first timestep)\n",
    "    smoothed = list()\n",
    "    for point in scalars:\n",
    "        smoothed_val = last * weight + (1 - weight) * point  # Calculate smoothed value\n",
    "        smoothed.append(smoothed_val)                        # Save it\n",
    "        last = smoothed_val                                  # Anchor the last smoothed value\n",
    "\n",
    "    return smoothed"
   ]
  },
  {
   "cell_type": "code",
   "execution_count": 176,
   "metadata": {},
   "outputs": [],
   "source": [
    "newentropy = smooth(entropies[0],0.1)"
   ]
  },
  {
   "cell_type": "code",
   "execution_count": 177,
   "metadata": {},
   "outputs": [
    {
     "data": {
      "text/plain": [
       "[<matplotlib.lines.Line2D at 0x1c30caffd0>]"
      ]
     },
     "execution_count": 177,
     "metadata": {},
     "output_type": "execute_result"
    },
    {
     "data": {
      "image/png": "[encoded data removed]",
      "text/plain": [
       "<matplotlib.figure.Figure at 0x1c2fb4bb70>"
      ]
     },
     "metadata": {},
     "output_type": "display_data"
    }
   ],
   "source": [
    "plt.plot(range(len(newentropy)), newentropy)\n",
    "#for done_step in done_steps:\n",
    "    "
   ]
  },
  {
   "cell_type": "code",
   "execution_count": 169,
   "metadata": {},
   "outputs": [],
   "source": [
    "abs_pd_errors = [abs(i) for i in pd_errors]"
   ]
  },
  {
   "cell_type": "code",
   "execution_count": 170,
   "metadata": {},
   "outputs": [],
   "source": [
    "newabspderrors = smooth(abs_pd_errors,0.75)"
   ]
  },
  {
   "cell_type": "code",
   "execution_count": 171,
   "metadata": {},
   "outputs": [
    {
     "data": {
      "text/plain": [
       "[<matplotlib.lines.Line2D at 0x1c2e7eab00>]"
      ]
     },
     "execution_count": 171,
     "metadata": {},
     "output_type": "execute_result"
    },
    {
     "data": {
      "image/png": "[encoded data removed]",
      "text/plain": [
       "<matplotlib.figure.Figure at 0x1c2e744438>"
      ]
     },
     "metadata": {},
     "output_type": "display_data"
    }
   ],
   "source": [
    "plt.plot(range(len(newabspderrors)), newabspderrors)\n"
   ]
  },
  {
   "cell_type": "code",
   "execution_count": 162,
   "metadata": {},
   "outputs": [],
   "source": [
    "newpderrors = smooth(pd_errors,0.75)"
   ]
  },
  {
   "cell_type": "code",
   "execution_count": 179,
   "metadata": {},
   "outputs": [
    {
     "data": {
      "text/plain": [
       "[<matplotlib.lines.Line2D at 0x1c30d187b8>]"
      ]
     },
     "execution_count": 179,
     "metadata": {},
     "output_type": "execute_result"
    },
    {
     "data": {
      "image/png": "[encoded data removed]",
      "text/plain": [
       "<matplotlib.figure.Figure at 0x1c30cd0668>"
      ]
     },
     "metadata": {},
     "output_type": "display_data"
    }
   ],
   "source": [
    "plt.plot(range(len(newpderrors)), newpderrors)\n"
   ]
  },
  {
   "cell_type": "code",
   "execution_count": 178,
   "metadata": {},
   "outputs": [],
   "source": [
    "newpderrors = [min(i,5) for i in newpderrors]"
   ]
  },
  {
   "cell_type": "code",
   "execution_count": 153,
   "metadata": {},
   "outputs": [
    {
     "data": {
      "text/plain": [
       "[807, 960]"
      ]
     },
     "execution_count": 153,
     "metadata": {},
     "output_type": "execute_result"
    }
   ],
   "source": [
    "done_steps"
   ]
  },
  {
   "cell_type": "code",
   "execution_count": 104,
   "metadata": {},
   "outputs": [
    {
     "data": {
      "image/png": "[encoded data removed]",
      "text/plain": [
       "<matplotlib.figure.Figure at 0x1c2dd12f60>"
      ]
     },
     "metadata": {},
     "output_type": "display_data"
    }
   ],
   "source": [
    "# Analyze\n",
    "# actions\n",
    "action_analysis = []\n",
    "action_analysis.append(actions[0].copy())\n",
    "action_analysis.append(actions[1].copy())\n",
    "action_analysis.append(actions[2].copy())\n",
    "for l in action_analysis:\n",
    "    for i in range(len(l)):\n",
    "        l[i] = str(i)+\"-\"+str(l[i])\n",
    "# show via venn diagram\n",
    "venn3([set(action_analysis[0]), set(action_analysis[1]), set(action_analysis[2])], set_labels = ('g = 1', 'g = 0.5', 'g = 2'))\n",
    "plt.show()"
   ]
  },
  {
   "cell_type": "code",
   "execution_count": 117,
   "metadata": {},
   "outputs": [
    {
     "name": "stdout",
     "output_type": "stream",
     "text": [
      "0\n",
      "Score:  {'r': 7320.0, 'l': 1161, 't': 29.046417}\n",
      "[[0.03949318135306399], [0.03949318135306399], [0.03949318135306399]]\n",
      "0\n",
      "Score:  {'r': 6400.0, 'l': 1367, 't': 63.127889}\n",
      "[[0.03805927533892601], [0.03805927533892601], [0.03805927533892601]]\n",
      "0\n",
      "Score:  {'r': 6550.0, 'l': 1322, 't': 92.102747}\n",
      "[[0.056356739306528014], [0.056356739306528014], [0.056356739306528014]]\n",
      "0\n",
      "Score:  {'r': 4990.0, 'l': 976, 't': 117.986073}\n",
      "[[0.05564967286029266], [0.05564967286029266], [0.05564967286029266]]\n",
      "0\n",
      "Score:  {'r': 6450.0, 'l': 1064, 't': 138.972983}\n",
      "[[0.045058620613577335], [0.045058620613577335], [0.045058620613577335]]\n"
     ]
    }
   ],
   "source": [
    "# Analyze \n",
    "# entropy\n",
    "gs = [1.0, 0.5, 2.0]\n",
    "for i in range(5):\n",
    "    avg_entropies = get_entropy(envs, actor_critic, gs, 1)\n",
    "    print(avg_entropies)"
   ]
  },
  {
   "cell_type": "code",
   "execution_count": null,
   "metadata": {},
   "outputs": [],
   "source": []
  }
 ],
 "metadata": {
  "kernelspec": {
   "display_name": "Python 3",
   "language": "python",
   "name": "python3"
  },
  "language_info": {
   "codemirror_mode": {
    "name": "ipython",
    "version": 3
   },
   "file_extension": ".py",
   "mimetype": "text/x-python",
   "name": "python",
   "nbconvert_exporter": "python",
   "pygments_lexer": "ipython3",
   "version": "3.6.4"
  }
 },
 "nbformat": 4,
 "nbformat_minor": 2
}
