{
 "cells": [
  {
   "cell_type": "code",
   "execution_count": 37,
   "metadata": {},
   "outputs": [],
   "source": [
    "import numpy as np\n",
    "import scipy.stats\n",
    "from scipy.stats import binom\n",
    "from scipy import integrate\n",
    "import matplotlib.pyplot as plt"
   ]
  },
  {
   "cell_type": "code",
   "execution_count": 53,
   "metadata": {},
   "outputs": [],
   "source": [
    "def prior(item):\n",
    "    if item > 0.5 and item < 1.0:\n",
    "        return (8-8*item)\n",
    "    else:\n",
    "        return (0)\n",
    "\n",
    "# def prior(x):\n",
    "#     result = []\n",
    "#     for item in x:\n",
    "#         if item > 0.5 and item < 1.0:\n",
    "#             result.append(8-8*item)\n",
    "#         else:\n",
    "#             result.append(0)\n",
    "#     return result\n",
    "\n",
    "def yGp(x, y=10, n=12):\n",
    "    return binom.pmf(y, n, x)\n",
    "\n",
    "def integrand(x, y=10, n=12):\n",
    "    return yGp(x, y, n)*prior(x)\n",
    "\n",
    "\n",
    "def posterior(x):\n",
    "    return yGp(x)*prior(x)/integrate.quad(integrand,0.5,1)"
   ]
  },
  {
   "cell_type": "code",
   "execution_count": 54,
   "metadata": {},
   "outputs": [],
   "source": [
    "inputs = list(range(100))\n",
    "inputs = [i/100 for i in inputs]\n",
    "#result = integrate.quad(integrand, 0.5, 1)"
   ]
  },
  {
   "cell_type": "code",
   "execution_count": 55,
   "metadata": {},
   "outputs": [],
   "source": [
    "result = []\n",
    "for i in inputs:\n",
    "    result.append(posterior(i))"
   ]
  },
  {
   "cell_type": "code",
   "execution_count": 49,
   "metadata": {
    "collapsed": true
   },
   "outputs": [
    {
     "data": {
      "text/plain": [
       "[array([nan, nan]),\n",
       " array([nan, nan]),\n",
       " array([nan, nan]),\n",
       " array([nan, nan]),\n",
       " array([nan, nan]),\n",
       " array([nan, nan]),\n",
       " array([nan, nan]),\n",
       " array([nan, nan]),\n",
       " array([nan, nan]),\n",
       " array([nan, nan]),\n",
       " array([nan, nan]),\n",
       " array([nan, nan]),\n",
       " array([nan, nan]),\n",
       " array([nan, nan]),\n",
       " array([nan, nan]),\n",
       " array([nan, nan]),\n",
       " array([nan, nan]),\n",
       " array([nan, nan]),\n",
       " array([nan, nan]),\n",
       " array([nan, nan]),\n",
       " array([nan, nan]),\n",
       " array([nan, nan]),\n",
       " array([nan, nan]),\n",
       " array([nan, nan]),\n",
       " array([nan, nan]),\n",
       " array([nan, nan]),\n",
       " array([nan, nan]),\n",
       " array([nan, nan]),\n",
       " array([nan, nan]),\n",
       " array([nan, nan]),\n",
       " array([nan, nan]),\n",
       " array([nan, nan]),\n",
       " array([nan, nan]),\n",
       " array([nan, nan]),\n",
       " array([nan, nan]),\n",
       " array([nan, nan]),\n",
       " array([nan, nan]),\n",
       " array([nan, nan]),\n",
       " array([nan, nan]),\n",
       " array([nan, nan]),\n",
       " array([nan, nan]),\n",
       " array([nan, nan]),\n",
       " array([nan, nan]),\n",
       " array([nan, nan]),\n",
       " array([nan, nan]),\n",
       " array([nan, nan]),\n",
       " array([nan, nan]),\n",
       " array([nan, nan]),\n",
       " array([nan, nan]),\n",
       " array([nan, nan]),\n",
       " array([0., 0.]),\n",
       " array([9.34904091e+01, 8.42086743e+15]),\n",
       " array([9.37302433e+01, 8.44246977e+15]),\n",
       " array([9.39664634e+01, 8.46374659e+15]),\n",
       " array([9.41995937e+01, 8.48474510e+15]),\n",
       " array([9.44301511e+01, 8.50551186e+15]),\n",
       " array([9.46586495e+01, 8.52609317e+15]),\n",
       " array([9.48856036e+01, 8.54653538e+15]),\n",
       " array([9.51115332e+01, 8.56688531e+15]),\n",
       " array([9.53369674e+01, 8.58719061e+15]),\n",
       " array([9.55624494e+01, 8.60750023e+15]),\n",
       " array([9.57885418e+01, 8.62786482e+15]),\n",
       " array([9.60158316e+01, 8.64833727e+15]),\n",
       " array([9.62449373e+01, 8.66897327e+15]),\n",
       " array([9.64765150e+01, 8.68983194e+15]),\n",
       " array([9.67112670e+01, 8.71097652e+15]),\n",
       " array([9.69499512e+01, 8.73247528e+15]),\n",
       " array([9.71933912e+01, 8.75440241e+15]),\n",
       " array([9.74424897e+01, 8.77683920e+15]),\n",
       " array([9.76982430e+01, 8.79987541e+15]),\n",
       " array([9.79617590e+01, 8.82361083e+15]),\n",
       " array([9.82342792e+01, 8.84815726e+15]),\n",
       " array([9.85172040e+01, 8.87364086e+15]),\n",
       " array([9.88121254e+01, 8.90020503e+15]),\n",
       " array([9.91208665e+01, 8.92801395e+15]),\n",
       " array([9.94455302e+01, 8.95725706e+15]),\n",
       " array([9.97885614e+01, 8.98815456e+15]),\n",
       " array([1.00152825e+02, 9.02096451e+15]),\n",
       " array([1.00541706e+02, 9.05599184e+15]),\n",
       " array([1.00959242e+02, 9.09360008e+15]),\n",
       " array([1.01410288e+02, 9.13422672e+15]),\n",
       " array([1.01900750e+02, 9.17840358e+15]),\n",
       " array([1.02437884e+02, 9.22678435e+15]),\n",
       " array([1.03030719e+02, 9.28018219e+15]),\n",
       " array([1.03690636e+02, 9.33962221e+15]),\n",
       " array([1.04432196e+02, 9.40641601e+15]),\n",
       " array([1.05274343e+02, 9.48226987e+15]),\n",
       " array([1.06242193e+02, 9.56944603e+15]),\n",
       " array([1.07369776e+02, 9.67100968e+15]),\n",
       " array([1.08704380e+02, 9.79122014e+15]),\n",
       " array([1.10313700e+02, 9.93617473e+15]),\n",
       " array([1.12298150e+02, 1.01149181e+16]),\n",
       " array([1.14813284e+02, 1.03414613e+16]),\n",
       " array([1.18113461e+02, 1.06387147e+16]),\n",
       " array([1.22644452e+02, 1.10468301e+16]),\n",
       " array([1.29262979e+02, 1.16429741e+16]),\n",
       " array([1.39841966e+02, 1.25958445e+16]),\n",
       " array([1.59346643e+02, 1.43526697e+16]),\n",
       " array([2.05867640e+02, 1.85429085e+16]),\n",
       " array([3.91960238e+02, 3.53046397e+16])]"
      ]
     },
     "execution_count": 49,
     "metadata": {},
     "output_type": "execute_result"
    }
   ],
   "source": [
    "result"
   ]
  },
  {
   "cell_type": "code",
   "execution_count": 57,
   "metadata": {},
   "outputs": [],
   "source": [
    "result = [item[0].item() for item in result]"
   ]
  },
  {
   "cell_type": "code",
   "execution_count": 58,
   "metadata": {
    "collapsed": true
   },
   "outputs": [
    {
     "data": {
      "text/plain": [
       "[0.0,\n",
       " 0.0,\n",
       " 0.0,\n",
       " 0.0,\n",
       " 0.0,\n",
       " 0.0,\n",
       " 0.0,\n",
       " 0.0,\n",
       " 0.0,\n",
       " 0.0,\n",
       " 0.0,\n",
       " 0.0,\n",
       " 0.0,\n",
       " 0.0,\n",
       " 0.0,\n",
       " 0.0,\n",
       " 0.0,\n",
       " 0.0,\n",
       " 0.0,\n",
       " 0.0,\n",
       " 0.0,\n",
       " 0.0,\n",
       " 0.0,\n",
       " 0.0,\n",
       " 0.0,\n",
       " 0.0,\n",
       " 0.0,\n",
       " 0.0,\n",
       " 0.0,\n",
       " 0.0,\n",
       " 0.0,\n",
       " 0.0,\n",
       " 0.0,\n",
       " 0.0,\n",
       " 0.0,\n",
       " 0.0,\n",
       " 0.0,\n",
       " 0.0,\n",
       " 0.0,\n",
       " 0.0,\n",
       " 0.0,\n",
       " 0.0,\n",
       " 0.0,\n",
       " 0.0,\n",
       " 0.0,\n",
       " 0.0,\n",
       " 0.0,\n",
       " 0.0,\n",
       " 0.0,\n",
       " 0.0,\n",
       " 0.0,\n",
       " 0.5773307045066475,\n",
       " 0.659009693637893,\n",
       " 0.7484915886030088,\n",
       " 0.8459520509059338,\n",
       " 0.9514787440825999,\n",
       " 1.065057252143764,\n",
       " 1.1865569237316418,\n",
       " 1.3157169245057048,\n",
       " 1.4521328194387,\n",
       " 1.5952440454025731,\n",
       " 1.7443226718117901,\n",
       " 1.8984638822012738,\n",
       " 2.0565786413465714,\n",
       " 2.217389039641984,\n",
       " 2.3794268275436075,\n",
       " 2.541035666403208,\n",
       " 2.7003776262395744,\n",
       " 2.8554444540097244,\n",
       " 3.0040741156558237,\n",
       " 3.1439730793158622,\n",
       " 3.272744753086185,\n",
       " 3.3879244158777904,\n",
       " 3.4870208812474033,\n",
       " 3.567565008394137,\n",
       " 3.627165018321134,\n",
       " 3.6635683827266927,\n",
       " 3.6747298244872852,\n",
       " 3.658884697306555,\n",
       " 3.6146266936042277,\n",
       " 3.540988459059528,\n",
       " 3.437523264125493,\n",
       " 3.3043853916648196,\n",
       " 3.1424063396359196,\n",
       " 2.953163302114814,\n",
       " 2.739035674120152,\n",
       " 2.503244518556257,\n",
       " 2.2498690295250263,\n",
       " 1.9838330172691416,\n",
       " 1.7108533176349285,\n",
       " 1.4373407842556227,\n",
       " 1.1702431452465212,\n",
       " 0.9168174881664439,\n",
       " 0.6843184669153196,\n",
       " 0.47958649115541035,\n",
       " 0.30851815126599547,\n",
       " 0.1753989377060559,\n",
       " 0.08207592032233821,\n",
       " 0.026945447357373184,\n",
       " 0.0037280918217572493]"
      ]
     },
     "execution_count": 58,
     "metadata": {},
     "output_type": "execute_result"
    }
   ],
   "source": [
    "result"
   ]
  },
  {
   "cell_type": "code",
   "execution_count": 59,
   "metadata": {
    "collapsed": true
   },
   "outputs": [
    {
     "data": {
      "text/plain": [
       "[<matplotlib.lines.Line2D at 0x1a1a9f9d68>]"
      ]
     },
     "execution_count": 59,
     "metadata": {},
     "output_type": "execute_result"
    },
    {
     "data": {
      "image/png": "[encoded data removed]",
      "text/plain": [
       "<matplotlib.figure.Figure at 0x1a1a9cc160>"
      ]
     },
     "metadata": {},
     "output_type": "display_data"
    }
   ],
   "source": [
    "plt.plot(inputs, result )"
   ]
  },
  {
   "cell_type": "code",
   "execution_count": null,
   "metadata": {},
   "outputs": [],
   "source": []
  }
 ],
 "metadata": {
  "kernelspec": {
   "display_name": "Python 3",
   "language": "python",
   "name": "python3"
  },
  "language_info": {
   "codemirror_mode": {
    "name": "ipython",
    "version": 3
   },
   "file_extension": ".py",
   "mimetype": "text/x-python",
   "name": "python",
   "nbconvert_exporter": "python",
   "pygments_lexer": "ipython3",
   "version": "3.6.4"
  }
 },
 "nbformat": 4,
 "nbformat_minor": 2
}
